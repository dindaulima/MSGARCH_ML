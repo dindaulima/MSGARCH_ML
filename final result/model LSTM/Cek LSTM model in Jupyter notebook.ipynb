{
 "cells": [
  {
   "cell_type": "code",
   "execution_count": 1,
   "metadata": {},
   "outputs": [],
   "source": [
    "#https://towardsdatascience.com/the-lstm-reference-card-6163ca98ae87\n",
    "import numpy as np\n",
    "import pandas as pd\n",
    "from tensorflow.keras.models import load_model"
   ]
  },
  {
   "cell_type": "code",
   "execution_count": 2,
   "metadata": {},
   "outputs": [],
   "source": [
    "filename = \"model MSGARCH-LSTM-window5 4 neuron.h5\""
   ]
  },
  {
   "cell_type": "code",
   "execution_count": 3,
   "metadata": {},
   "outputs": [],
   "source": [
    "model = load_model(filename)"
   ]
  },
  {
   "cell_type": "code",
   "execution_count": 4,
   "metadata": {},
   "outputs": [
    {
     "name": "stdout",
     "output_type": "stream",
     "text": [
      "Model: \"sequential_163\"\n",
      "_________________________________________________________________\n",
      "Layer (type)                 Output Shape              Param #   \n",
      "=================================================================\n",
      "lstm_163 (LSTM)              (None, 4)                 112       \n",
      "_________________________________________________________________\n",
      "dense_163 (Dense)            (None, 1)                 5         \n",
      "=================================================================\n",
      "Total params: 117\n",
      "Trainable params: 117\n",
      "Non-trainable params: 0\n",
      "_________________________________________________________________\n"
     ]
    }
   ],
   "source": [
    "model.summary()"
   ]
  },
  {
   "cell_type": "code",
   "execution_count": 6,
   "metadata": {},
   "outputs": [],
   "source": [
    "Wx = model.layers[1].get_weights()[0] \n",
    "bx = model.layers[1].get_weights()[1]"
   ]
  },
  {
   "cell_type": "code",
   "execution_count": 9,
   "metadata": {},
   "outputs": [
    {
     "name": "stdout",
     "output_type": "stream",
     "text": [
      "Wx\n",
      "[[ 3.8670878]\n",
      " [-6.8730426]\n",
      " [-2.1128838]\n",
      " [-3.3151677]]\n",
      " \n",
      "bx\n",
      "[-0.3707265]\n"
     ]
    }
   ],
   "source": [
    "print('Wx')\n",
    "print(Wx)\n",
    "print(\" \")\n",
    "print('bx')\n",
    "print(bx)"
   ]
  },
  {
   "cell_type": "code",
   "execution_count": 11,
   "metadata": {},
   "outputs": [],
   "source": [
    "units = 4 #lstm units\n",
    "W = model.layers[0].get_weights()[0] \n",
    "U = model.layers[0].get_weights()[1] \n",
    "b = model.layers[0].get_weights()[2]"
   ]
  },
  {
   "cell_type": "code",
   "execution_count": 12,
   "metadata": {},
   "outputs": [
    {
     "data": {
      "text/plain": [
       "array([[ 6.9323545e+00,  1.5781726e+00, -1.1393532e+00,  5.4640961e+00,\n",
       "         5.9332666e+00, -6.2695036e+00, -2.7060137e+00,  5.2060180e+00,\n",
       "        -6.2787193e-01,  1.8323486e+01,  6.2905774e+00,  4.7902322e+00,\n",
       "         1.1632485e+01,  2.1577711e+00, -1.4630514e-01,  9.2864523e+00],\n",
       "       [ 3.2969122e-03, -3.4293423e+00, -4.0886483e-01, -3.5516300e+00,\n",
       "         1.3420497e+00, -2.7039578e+00, -2.2639103e+00, -7.4192195e+00,\n",
       "        -1.5209252e+00, -1.5024332e+01, -2.6430252e+00, -2.3368886e+00,\n",
       "         2.5700489e-01, -1.9157106e+00,  9.5886564e-01, -4.4378943e+00]],\n",
       "      dtype=float32)"
      ]
     },
     "execution_count": 12,
     "metadata": {},
     "output_type": "execute_result"
    }
   ],
   "source": [
    "W"
   ]
  },
  {
   "cell_type": "code",
   "execution_count": 16,
   "metadata": {},
   "outputs": [
    {
     "data": {
      "text/plain": [
       "array([[ 6.9323545e+00,  1.5781726e+00, -1.1393532e+00,  5.4640961e+00],\n",
       "       [ 3.2969122e-03, -3.4293423e+00, -4.0886483e-01, -3.5516300e+00]],\n",
       "      dtype=float32)"
      ]
     },
     "execution_count": 16,
     "metadata": {},
     "output_type": "execute_result"
    }
   ],
   "source": [
    "W_i = W[:, :units] \n",
    "W_i"
   ]
  },
  {
   "cell_type": "code",
   "execution_count": 18,
   "metadata": {},
   "outputs": [
    {
     "data": {
      "text/plain": [
       "array([2.423188  , 1.3003806 , 0.08820487, 1.5445478 ], dtype=float32)"
      ]
     },
     "execution_count": 18,
     "metadata": {},
     "output_type": "execute_result"
    }
   ],
   "source": [
    "b_i = b[:units] \n",
    "b_i"
   ]
  },
  {
   "cell_type": "code",
   "execution_count": null,
   "metadata": {},
   "outputs": [],
   "source": []
  }
 ],
 "metadata": {
  "kernelspec": {
   "display_name": "Python 3",
   "language": "python",
   "name": "python3"
  },
  "language_info": {
   "codemirror_mode": {
    "name": "ipython",
    "version": 3
   },
   "file_extension": ".py",
   "mimetype": "text/x-python",
   "name": "python",
   "nbconvert_exporter": "python",
   "pygments_lexer": "ipython3",
   "version": "3.9.0"
  }
 },
 "nbformat": 4,
 "nbformat_minor": 4
}
